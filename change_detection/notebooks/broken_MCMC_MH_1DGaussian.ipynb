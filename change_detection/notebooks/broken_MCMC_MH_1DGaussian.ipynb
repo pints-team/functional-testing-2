{
 "cells": [
  {
   "cell_type": "markdown",
   "metadata": {},
   "source": [
    "## Detection of Broken MCMC Samplers - MH/1D Gaussian\n",
    "In this notebook, we deliberately break a standard Metropolis Hastings sampler by causing it to incorrectly accept proposals with a certain probability. The sampler is used on the 1D Gaussian distribution."
   ]
  },
  {
   "cell_type": "markdown",
   "metadata": {},
   "source": [
    "## Dependencies\n",
    "This notebook uses hildensia's implementation of the ''Bayesian Online Changepoint Detection'' algorithm by Ryan Adams and David MacKay, available at the following link\n",
    "\n",
    "https://github.com/hildensia/bayesian_changepoint_detection"
   ]
  },
  {
   "cell_type": "code",
   "execution_count": 1,
   "metadata": {},
   "outputs": [],
   "source": [
    "from functools import partial\n",
    "import random\n",
    "import matplotlib.pyplot as plt\n",
    "import numpy as np\n",
    "import pints\n",
    "import pints.toy\n",
    "import pints.plot\n",
    "import bayesian_changepoint_detection.online_changepoint_detection as oncd"
   ]
  },
  {
   "cell_type": "code",
   "execution_count": 2,
   "metadata": {},
   "outputs": [],
   "source": [
    "class BrokenMH(pints.MetropolisRandomWalkMCMC):\n",
    "    \"\"\"Broken version of Metropolis Hastings.\n",
    "\n",
    "    At each MH step, with probability given by error_freq, it will always\n",
    "    accept the proposal.\n",
    "    \"\"\"\n",
    "    def __init__(self, x0, sigma0=None):\n",
    "        super().__init__(x0, sigma0)\n",
    "        self.error_freq = 0.0\n",
    "\n",
    "    def set_error_freq(self, error_freq):\n",
    "        self.error_freq = error_freq\n",
    "\n",
    "    def tell(self, fx):\n",
    "        if self.error_freq == 0.0 or random.random() > self.error_freq:\n",
    "            # Run MH step correctly\n",
    "            return super().tell(fx)\n",
    "        else:\n",
    "            # Always accept it even if it is bad\n",
    "            self._acceptance = ((self._iterations * self._acceptance + 1) /\n",
    "                                (self._iterations + 1))\n",
    "            self._iterations += 1\n",
    "            self._current = self._proposed\n",
    "            self._current_log_pdf = fx\n",
    "            self._proposed = None\n",
    "            return self._current"
   ]
  },
  {
   "cell_type": "code",
   "execution_count": 3,
   "metadata": {},
   "outputs": [],
   "source": [
    "class NormalDist(pints.toy.GaussianLogPDF):\n",
    "    \"\"\"Same as Pints, except it doesn't complain about KLD for 1d distribution.\n",
    "\n",
    "    # todo: check if there is a problem in pints\n",
    "    \"\"\"\n",
    "    def kl_divergence(self, samples):\n",
    "        \"\"\"\n",
    "        Calculates the Kullback-Leibler divergence between a given list of\n",
    "        samples and the distribution underlying this LogPDF.\n",
    "\n",
    "        The returned value is (near) zero for perfect sampling, and then\n",
    "        increases as the error gets larger.\n",
    "\n",
    "        See: https://en.wikipedia.org/wiki/Kullback-Leibler_divergence\n",
    "        \"\"\"\n",
    "        m0 = np.mean(samples, axis=0)\n",
    "        m1 = self._mean\n",
    "        s0 = np.cov(samples.T)\n",
    "        s1 = self._sigma\n",
    "        cov_inv = np.linalg.inv(s1)\n",
    "\n",
    "        if s0.ndim < 2:\n",
    "            s0 = np.array([[s0]])\n",
    "\n",
    "        dkl1 = np.trace(cov_inv.dot(s0))\n",
    "        dkl2 = np.dot((m1 - m0).T, cov_inv).dot(m1 - m0)\n",
    "        dkl3 = np.log(np.linalg.det(s1) / np.linalg.det(s0))\n",
    "        return 0.5 * (dkl1 + dkl2 + dkl3 - self._n_parameters)"
   ]
  },
  {
   "cell_type": "code",
   "execution_count": 4,
   "metadata": {},
   "outputs": [],
   "source": [
    "def get_klds(num_runs, start_breaking, error_freq):\n",
    "    \"\"\"Run MCMC multiple times, break at some point, and get the KL divs.\n",
    "    \n",
    "    It uses the BrokenMH sampler and the 1D Gaussian distribution.\n",
    "\n",
    "    Parameters\n",
    "    ----------\n",
    "    num_runs : int\n",
    "        Total number of runs\n",
    "    start_breaking : int\n",
    "        Which run to break the MCMC algorithm\n",
    "    error_freq : float\n",
    "        Error probability per MH step once the algorithm is broken\n",
    "\n",
    "    Returns\n",
    "    -------\n",
    "    list\n",
    "        List of kl divergences from samples to posterior for each run\n",
    "    \"\"\"\n",
    "    posterior = NormalDist(np.array([1.0]), np.array([0.1**2]))\n",
    "    x0 = [np.array([1.0])]\n",
    "\n",
    "    klds = []\n",
    "    for run in range(num_runs):\n",
    "        mcmc = pints.MCMCController(posterior, 1, x0, method=BrokenMH)\n",
    "        mcmc.set_max_iterations(1000)\n",
    "        if run >= start_breaking:\n",
    "            for s in mcmc.samplers():\n",
    "                s.set_error_freq(error_freq)\n",
    "\n",
    "        mcmc.set_log_to_screen(False)\n",
    "        chains = mcmc.run()\n",
    "        kld = posterior.kl_divergence(chains[0])\n",
    "        klds.append(kld)\n",
    "\n",
    "    return klds"
   ]
  },
  {
   "cell_type": "code",
   "execution_count": 5,
   "metadata": {},
   "outputs": [],
   "source": [
    "def run_changepoint(data):\n",
    "    \"\"\"Run changepoint detection using the library.\n",
    "    \"\"\"\n",
    "    ## Set hyperparameters\n",
    "    # timescale of hazard function\n",
    "    lam = 250\n",
    "\n",
    "    # T distribution parameters\n",
    "    # df=2*self.alpha,\n",
    "    # loc=self.mu,\n",
    "    # scale=np.sqrt(self.beta * (self.kappa+1) / (self.alpha * self.kappa))\n",
    "    alpha = 0.1\n",
    "    beta = 0.01\n",
    "    kappa = 1.0\n",
    "    mu = 0.0\n",
    "\n",
    "    R, maxes = oncd.online_changepoint_detection(\n",
    "        data,\n",
    "        partial(oncd.constant_hazard, lam),\n",
    "        oncd.StudentT(alpha, beta, kappa, mu))\n",
    "\n",
    "    return R"
   ]
  },
  {
   "cell_type": "markdown",
   "metadata": {},
   "source": [
    "We run the following experiment to test broken MCMC sampling and changepoint detection.\n",
    "\n",
    "The MCMC sampler is run 60 times. From the 30th run onwards, the sampler is deliberately broken by insisting that at each accept/reject step, the proposal will be automatically accepted with probability 0.15. \n",
    "\n",
    "Next, we attempt to detect any changepoints in the series of KL divergences obtained."
   ]
  },
  {
   "cell_type": "code",
   "execution_count": 6,
   "metadata": {},
   "outputs": [
    {
     "data": {
      "image/png": "[encoded data removed]",
      "text/plain": [
       "<Figure size 432x288 with 2 Axes>"
      ]
     },
     "metadata": {
      "needs_background": "light"
     },
     "output_type": "display_data"
    }
   ],
   "source": [
    "random.seed(1000)\n",
    "np.random.seed(1000)\n",
    "\n",
    "klds = get_klds(60, 30, 0.15)\n",
    "R = run_changepoint(klds)\n",
    "\n",
    "runs = np.arange(len(klds))\n",
    "\n",
    "fig = plt.figure()\n",
    "ax = fig.add_subplot(2, 1, 1)\n",
    "ax.plot(runs, klds)\n",
    "ax.set_ylabel('KLD')\n",
    "\n",
    "ax = fig.add_subplot(2, 1, 2, sharex=ax)\n",
    "window_size = 10  # How many time points to get before evaluating\n",
    "                  # probability\n",
    "ax.plot(runs[:-window_size], R[window_size, window_size:-1])\n",
    "\n",
    "ax.set_xlabel('Run')\n",
    "ax.set_ylabel('P(Changepoint)')\n",
    "\n",
    "plt.show()"
   ]
  },
  {
   "cell_type": "code",
   "execution_count": null,
   "metadata": {},
   "outputs": [],
   "source": []
  }
 ],
 "metadata": {
  "kernelspec": {
   "display_name": "Python 3",
   "language": "python",
   "name": "python3"
  },
  "language_info": {
   "codemirror_mode": {
    "name": "ipython",
    "version": 3
   },
   "file_extension": ".py",
   "mimetype": "text/x-python",
   "name": "python",
   "nbconvert_exporter": "python",
   "pygments_lexer": "ipython3",
   "version": "3.7.5"
  }
 },
 "nbformat": 4,
 "nbformat_minor": 2
}
